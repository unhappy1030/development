{
 "cells": [
  {
   "cell_type": "code",
   "execution_count": 5,
   "id": "9b2da3e1-b4ea-444e-8ed9-73071434da25",
   "metadata": {},
   "outputs": [
    {
     "name": "stdout",
     "output_type": "stream",
     "text": [
      "Downloading data from https://storage.googleapis.com/tensorflow/tf-keras-datasets/mnist.npz\n",
      "11490434/11490434 [==============================] - 1s 0us/step\n",
      "* shape: (60000, 28, 28) (60000,)\n",
      "Epoch 1/5\n",
      "1875/1875 [==============================] - 2s 946us/step - loss: 2.9203 - accuracy: 0.8579\n",
      "Epoch 2/5\n",
      "1875/1875 [==============================] - 2s 939us/step - loss: 0.4056 - accuracy: 0.9063\n",
      "Epoch 3/5\n",
      "1875/1875 [==============================] - 2s 924us/step - loss: 0.2960 - accuracy: 0.9259\n",
      "Epoch 4/5\n",
      "1875/1875 [==============================] - 2s 930us/step - loss: 0.2561 - accuracy: 0.9365\n",
      "Epoch 5/5\n",
      "1875/1875 [==============================] - 2s 948us/step - loss: 0.2355 - accuracy: 0.9413\n",
      "313/313 - 0s - loss: 0.2915 - accuracy: 0.9397 - 280ms/epoch - 895us/step\n"
     ]
    },
    {
     "data": {
      "text/plain": [
       "[0.29151272773742676, 0.9397000074386597]"
      ]
     },
     "execution_count": 5,
     "metadata": {},
     "output_type": "execute_result"
    }
   ],
   "source": [
    "import tensorflow as tf\n",
    "\n",
    "mnist = tf.keras.datasets.mnist\n",
    "(x_train, y_train),(x_test, y_test) = mnist.load_data()\n",
    "print(\"* shape:\", x_train.shape, y_train.shape)\n",
    "model = tf.keras.models.Sequential([tf.keras.layers.Flatten(input_shape=(28,28)),\n",
    "                                    tf.keras.layers.Dense(128, activation='relu'),\n",
    "                                    tf.keras.layers.Dense(10, activation='softmax')])\n",
    "\n",
    "model.compile(optimizer=\"Adam\",\n",
    "              loss='sparse_categorical_crossentropy',\n",
    "              metrics=['accuracy'])\n",
    "\n",
    "hist= model.fit(x_train, y_train, epochs=5)\n",
    "\n",
    "model.evaluate(x_test, y_test, verbose=2)"
   ]
  }
 ],
 "metadata": {
  "kernelspec": {
   "display_name": "Python 3 (ipykernel)",
   "language": "python",
   "name": "python3"
  },
  "language_info": {
   "codemirror_mode": {
    "name": "ipython",
    "version": 3
   },
   "file_extension": ".py",
   "mimetype": "text/x-python",
   "name": "python",
   "nbconvert_exporter": "python",
   "pygments_lexer": "ipython3",
   "version": "3.10.9"
  }
 },
 "nbformat": 4,
 "nbformat_minor": 5
}
